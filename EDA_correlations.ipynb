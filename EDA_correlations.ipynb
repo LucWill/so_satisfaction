{
 "cells": [
  {
   "cell_type": "code",
   "execution_count": null,
   "id": "fa351977-bde1-4e6f-8869-02dd5fb5f526",
   "metadata": {},
   "outputs": [],
   "source": [
    "import pandas as pd\n",
    "import numpy as np\n",
    "import matplotlib as plt\n",
    "import matplotlib.pyplot as plt\n",
    "import seaborn as sns\n",
    "%matplotlib inline\n",
    "pd.set_option(\"display.max_columns\", None)\n",
    "pd.set_option(\"display.max_info_columns\", 150)\n",
    "df = pd.read_csv(\"./stack-overflow-developer-survey-2024/survey_results_public.csv\")"
   ]
  },
  {
   "cell_type": "markdown",
   "id": "65d7676a-30cb-4434-bf0d-572b64bcadcb",
   "metadata": {},
   "source": [
    "Let's start with some EDA."
   ]
  },
  {
   "cell_type": "code",
   "execution_count": null,
   "id": "81d77c82-1575-473e-811f-21ff105220eb",
   "metadata": {},
   "outputs": [],
   "source": [
    "df.head()"
   ]
  },
  {
   "cell_type": "code",
   "execution_count": null,
   "id": "43d7b157-527e-4642-b504-7afbadf7f4fe",
   "metadata": {},
   "outputs": [],
   "source": [
    "df.info()"
   ]
  },
  {
   "cell_type": "code",
   "execution_count": null,
   "id": "cbf897d2-076b-4e97-b6a5-abbac6de013d",
   "metadata": {},
   "outputs": [],
   "source": [
    "# The following columns are removed due to insufficient data or lack of relevance to our analysis.\n",
    "df = df.drop(columns=['ResponseId', 'Check', 'Currency', 'CompTotal', 'NEWSOSites', 'SOVisitFreq', 'SOAccount', \n",
    "                      'SOPartFreq', 'SOHow', 'SOComm', 'AIToolNot interested in Using', 'AINextMuch more integrated', \n",
    "                      'AINextNo change', 'AINextMore integrated', 'AINextLess integrated', 'AINextMuch less integrated', \n",
    "                      'AIEthics', 'SurveyLength', 'SurveyEase'])\n"
   ]
  },
  {
   "cell_type": "code",
   "execution_count": null,
   "id": "d9dccd3a-81ae-4d28-b21a-30b90e4b4745",
   "metadata": {},
   "outputs": [],
   "source": [
    "# How is the group of participants composed?\n",
    "df['MainBranch'].hist( xrot=80)"
   ]
  },
  {
   "cell_type": "code",
   "execution_count": null,
   "id": "f1be1524-a3c5-4ea3-b619-cfece51ad9d4",
   "metadata": {},
   "outputs": [],
   "source": [
    "df['Age'].hist( xrot=80)\n",
    "# Most participants are between 18 and 44 years old."
   ]
  },
  {
   "cell_type": "code",
   "execution_count": null,
   "id": "13823118-7607-423c-bef8-124cd0831a52",
   "metadata": {},
   "outputs": [],
   "source": [
    "df['Employment'].describe()\n",
    "# high number of unique values"
   ]
  },
  {
   "cell_type": "code",
   "execution_count": null,
   "id": "894c78f3-a4ff-4938-a48d-b597af1a7f2a",
   "metadata": {},
   "outputs": [],
   "source": [
    "df['EdLevel'].hist( xrot=90)\n",
    "# Most participants own a Bachelors or Maters degree"
   ]
  },
  {
   "cell_type": "code",
   "execution_count": null,
   "id": "20f5c1f8-1695-4938-a3e4-d6d3c3592eab",
   "metadata": {},
   "outputs": [],
   "source": [
    "df['RemoteWork'].hist( xrot=90)\n",
    "# a large amount of people work at leat some amount remote"
   ]
  },
  {
   "cell_type": "code",
   "execution_count": null,
   "id": "f5541ef4-453c-4d6f-8abc-5f2fc75bd3f5",
   "metadata": {},
   "outputs": [],
   "source": [
    "df['ConvertedCompYearly'].hist( xrot=90, bins =500)\n",
    "# The distribution of ConvertedCompYearly (annual compensation) is highly right-skewed, which is typical for salary data."
   ]
  },
  {
   "cell_type": "code",
   "execution_count": null,
   "id": "526c1f0d-2c21-444d-8f86-7b95c5489a6f",
   "metadata": {},
   "outputs": [],
   "source": [
    "df['JobSat'].hist( xrot=90, bins =10)\n",
    "# Most respondents are either satisfied or neutral with their job. \n",
    "# Fewer respondents reported being very dissatisfied or very satisfied.\n",
    "# The JobSat column has 65437 - 29126 = 36,311 missing values, which could represent nearly half of the dataset.\n",
    "df['JobSat'].info()"
   ]
  },
  {
   "cell_type": "code",
   "execution_count": null,
   "id": "851b3da5-458d-426a-834e-22e75591ebae",
   "metadata": {},
   "outputs": [],
   "source": [
    "df['WorkExp'].hist( xrot=90, bins =10)\n",
    "# The distribution of WorkExp (years of professional experience) is right-skewed, \n",
    "# meaning most respondents have relatively few years of experience, while a smaller number have many years."
   ]
  },
  {
   "cell_type": "markdown",
   "id": "dab8c07f-56fb-4dc4-bf9c-8d6c16589adc",
   "metadata": {},
   "source": [
    "There are several columns containing strings that can be easily translated into numerical values in a qualitative way. For this purpose, we create dictionaries and a function that performs the translation."
   ]
  },
  {
   "cell_type": "code",
   "execution_count": null,
   "id": "438d41f8-b1b8-40bb-be4c-b481d84b2395",
   "metadata": {},
   "outputs": [],
   "source": [
    "selfdescription_dict = {'I am a developer by profession' : 5, 'I used to be a developer by profession, but no longer am': 4, \n",
    "                        'I am not primarily a developer, but I write code sometimes as part of my work/studies': 3, \n",
    "                        'I code primarily as a hobby':2, 'I am learning to code': 1, 'None of these': 0}\n",
    "age_dict = {'Under 18 years old' : 0, '18-24 years old': 18, '25-34 years old': 25, '35-44 years old': 35, '45-54 years old': 45, \n",
    "            '55-64 years old': 55, '65 years or older': 65, 'Prefer not to say': np.nan }\n",
    "education_dict = {'Professional degree (JD, MD, Ph.D, Ed.D, etc.)': 6, 'Master’s degree (M.A., M.S., M.Eng., MBA, etc.)' : 5, \n",
    "                  'Bachelor’s degree (B.A., B.S., B.Eng., etc.)': 4, 'Associate degree (A.A., A.S., etc.)': 3, \n",
    "                  'Some college/university study without earning a degree':2, \n",
    "                  'Secondary school (e.g. American high school, German Realschule or Gymnasium, etc.)': 1, \n",
    "                  'Primary/elementary school': 0, 'Something else': 3}\n",
    "orgsize_dict = {'Just me - I am a freelancer, sole proprietor, etc.': 1, '2 to 9 employees' : 2, '10 to 19 employees': 10, \n",
    "                '20 to 99 employees': 20, '100 to 499 employees': 100, '500 to 999 employees': 500, '1,000 to 4,999 employees': 1000, \n",
    "                '5,000 to 9,999 employees': 5000, '10,000 or more employees': 10000, 'I don’t know': np.nan}\n",
    "infl_dict = {'I have little or no influence': 0, 'I have some influence': 1, 'I have a great deal of influence': 2}\n",
    "knowledge_dict = {'Agree':1, 'Strongly agree': 2,  'Neither agree nor disagree': 0,  'Disagree': -1, \n",
    "                  'Strongly disagree': -2, np.nan: 0}\n",
    "\n",
    "def map_column_to_numbers(df, column, mapping_dict):\n",
    "    \"\"\"\n",
    "    Replaces values in a DataFrame column using a given mapping dictionary.\n",
    "\n",
    "    Args:\n",
    "        df (pd.DataFrame): DataFrame containing the data.\n",
    "        column (str): Name of the column to be mapped.\n",
    "        mapping_dict (dict): Dictionary mapping strings to numerical values.\n",
    "\n",
    "    Returns:\n",
    "        pd.Series: The mapped column as a Pandas Series.\n",
    "    \"\"\"\n",
    "    return df[column].replace(mapping_dict)"
   ]
  },
  {
   "cell_type": "code",
   "execution_count": null,
   "id": "a896b959-3035-4168-81d6-40799fe45687",
   "metadata": {},
   "outputs": [],
   "source": [
    "df['MainBranch'] = map_column_to_numbers(df, 'MainBranch', selfdescription_dict)\n",
    "\n",
    "df['Age'] = map_column_to_numbers(df, 'Age', age_dict)\n",
    "\n",
    "df['EdLevel'] = map_column_to_numbers(df, 'EdLevel', education_dict)\n",
    "\n",
    "df['OrgSize'] = map_column_to_numbers(df, 'OrgSize', orgsize_dict)\n",
    "\n",
    "df['PurchaseInfluence'] = map_column_to_numbers(df, 'PurchaseInfluence', infl_dict)\n",
    "\n",
    "for i in list(range(1, 10)): \n",
    "    df['Knowledge_'+str(i)] = map_column_to_numbers(df, 'Knowledge_'+str(i), knowledge_dict)"
   ]
  },
  {
   "cell_type": "markdown",
   "id": "785b53ee-c616-4b96-8eac-ae4aa2987e93",
   "metadata": {},
   "source": [
    "Year entries will be converted to integers where possible. If the entry is a string (e.g., indicating a range), it will be mapped to predefined boundary values."
   ]
  },
  {
   "cell_type": "code",
   "execution_count": null,
   "id": "83b5e7ab-2e83-4a8b-ad96-6f54cf76c869",
   "metadata": {},
   "outputs": [],
   "source": [
    "def clean_years_code(column):\n",
    "    return column.replace({\n",
    "        'Less than 1 year': 0,\n",
    "        'More than 50 years': 60\n",
    "    }).apply(pd.to_numeric, errors='coerce').fillna(0).astype(int)\n",
    "\n",
    "df['YearsCode'] = clean_years_code(df['YearsCode'])\n",
    "df['YearsCodePro'] = clean_years_code(df['YearsCodePro'])"
   ]
  },
  {
   "cell_type": "markdown",
   "id": "52de6acf-9375-4527-ab64-e228f23fa17a",
   "metadata": {},
   "source": [
    "Some columns contain information about tools that respondents use. These tools cannot be meaningfully ordered numerically. Creating dummy variables would significantly increase the dimensionality of the dataset and lead to sparse data. A more advanced approach would involve splitting the strings and filtering for the most relevant tools. However, we will choose a much simpler strategy here: we will count the number of tools mentioned by each respondent. This count might also serve as an indicator of job satisfaction."
   ]
  },
  {
   "cell_type": "code",
   "execution_count": null,
   "id": "ab2294c5-3874-44c8-8ea6-ff2761dc1278",
   "metadata": {},
   "outputs": [],
   "source": [
    "tools = ['LanguageHaveWorkedWith', 'LanguageWantToWorkWith', 'LanguageAdmired', 'DatabaseHaveWorkedWith', 'DatabaseWantToWorkWith', \n",
    "         'DatabaseAdmired', 'PlatformHaveWorkedWith', 'PlatformWantToWorkWith', 'PlatformAdmired', 'WebframeHaveWorkedWith', \n",
    "         'WebframeWantToWorkWith', 'WebframeAdmired', 'EmbeddedHaveWorkedWith', 'EmbeddedWantToWorkWith', 'EmbeddedAdmired', \n",
    "         'MiscTechHaveWorkedWith', 'MiscTechWantToWorkWith', 'MiscTechAdmired', 'ToolsTechHaveWorkedWith', 'ToolsTechWantToWorkWith', \n",
    "         'ToolsTechAdmired', 'NEWCollabToolsHaveWorkedWith', 'NEWCollabToolsWantToWorkWith', 'NEWCollabToolsAdmired', \n",
    "         'OpSysPersonal use', 'OpSysProfessional use', 'OfficeStackAsyncHaveWorkedWith', 'OfficeStackAsyncWantToWorkWith', \n",
    "         'OfficeStackAsyncAdmired', 'OfficeStackSyncHaveWorkedWith', 'OfficeStackSyncWantToWorkWith', 'OfficeStackSyncAdmired', \n",
    "         'AISearchDevHaveWorkedWith', 'AISearchDevWantToWorkWith', 'AISearchDevAdmired']\n",
    "\n",
    "def count_tools_columns(df, columns):\n",
    "    \"\"\"\n",
    "    Counts the number of tools (or entries) in specified columns \n",
    "    and creates new columns with the counts.\n",
    "\n",
    "    Args:\n",
    "        df (pd.DataFrame): The DataFrame containing the tool columns.\n",
    "        columns (list): List of column names to process.\n",
    "\n",
    "    Returns:\n",
    "        pd.DataFrame: DataFrame with additional columns '<ColumnName>_Count'.\n",
    "    \"\"\"\n",
    "    for col in columns:\n",
    "        df[col] = df[col].apply(\n",
    "            lambda x: str(x).count(';')+1 if pd.notnull(x) else 0\n",
    "        )\n",
    "    return df\n",
    "\n",
    "count_tools_columns(df, tools)"
   ]
  },
  {
   "cell_type": "markdown",
   "id": "ae1ca78d-f858-4b1f-aa45-a0672576bb17",
   "metadata": {},
   "source": [
    "We will now fill missing values where it is reasonable to do so."
   ]
  },
  {
   "cell_type": "code",
   "execution_count": null,
   "id": "673f20b6-f574-4f0a-923a-2bbcd60bfa3c",
   "metadata": {},
   "outputs": [],
   "source": [
    "df.info()"
   ]
  },
  {
   "cell_type": "code",
   "execution_count": null,
   "id": "877b6b6a-187d-45c1-bdbe-af6118b15da4",
   "metadata": {},
   "outputs": [],
   "source": [
    "# The OrgSize-distribution is right-skewed. We replace missing values by the median.\n",
    "df['OrgSize'].hist(bins = 100)\n",
    "df['OrgSize'] = df['OrgSize'].fillna(df['OrgSize'].median())\n",
    "# Missing values in influence are considered as little or no influence\n",
    "df['PurchaseInfluence'] = df['PurchaseInfluence'].fillna(0)"
   ]
  },
  {
   "cell_type": "code",
   "execution_count": null,
   "id": "b54d3490-ed29-4ca9-bdbe-162704300fad",
   "metadata": {},
   "outputs": [],
   "source": [
    "df0 = df[['MainBranch', 'Age', 'EdLevel', 'YearsCode', 'YearsCodePro', 'OrgSize', 'PurchaseInfluence', 'WorkExp', 'JobSatPoints_1',\n",
    "         'JobSatPoints_4', 'JobSatPoints_5', 'JobSatPoints_6', 'JobSatPoints_7', 'JobSatPoints_8', 'JobSatPoints_9', \n",
    "          'JobSatPoints_10', 'JobSatPoints_11', 'ConvertedCompYearly', 'JobSat']]\n",
    "corr = df0.corr(numeric_only=True)\n",
    "plt.figure(figsize=(13, 10))\n",
    "sns.heatmap(corr, annot=True, cmap=\"coolwarm\", fmt=\".2f\", square=True)\n",
    "plt.title(\"Correlation matrix\")\n",
    "plt.show()\n"
   ]
  },
  {
   "cell_type": "code",
   "execution_count": null,
   "id": "67d58cd2-ceaf-4a00-897d-f934ee88f2c8",
   "metadata": {},
   "outputs": [],
   "source": [
    "df1 = df[['YearsCode', 'YearsCodePro', 'OrgSize', 'PurchaseInfluence', 'WorkExp', 'Knowledge_1', 'Knowledge_2', 'Knowledge_3', 'Knowledge_4', 'Knowledge_5', 'Knowledge_6', 'Knowledge_7', 'Knowledge_8','JobSat']]\n",
    "corr = df1.corr(numeric_only=True)\n",
    "plt.figure(figsize=(10, 8))\n",
    "sns.heatmap(corr, annot=True, cmap=\"coolwarm\", fmt=\".2f\", square=True)\n",
    "plt.title(\"Correlation matrix\")\n",
    "plt.show()"
   ]
  },
  {
   "cell_type": "code",
   "execution_count": null,
   "id": "2fd6ed4c-8a73-40dd-8627-44617deae1dd",
   "metadata": {},
   "outputs": [],
   "source": [
    "df2 = df[['WorkExp', 'LanguageHaveWorkedWith', 'DatabaseHaveWorkedWith', 'PlatformHaveWorkedWith', 'WebframeHaveWorkedWith', \n",
    "          'EmbeddedHaveWorkedWith', 'MiscTechHaveWorkedWith', 'ToolsTechHaveWorkedWith', 'NEWCollabToolsHaveWorkedWith', \n",
    "          'OpSysProfessional use', 'OfficeStackAsyncHaveWorkedWith', 'OfficeStackSyncHaveWorkedWith', 'AISearchDevHaveWorkedWith', 'JobSat']]\n",
    "corr = df2.corr(numeric_only=True)\n",
    "plt.figure(figsize=(10, 8))\n",
    "sns.heatmap(corr, annot=True, cmap=\"coolwarm\", fmt=\".2f\", square=True)\n",
    "plt.title(\"Correlation matrix\")\n",
    "plt.show()"
   ]
  },
  {
   "cell_type": "code",
   "execution_count": null,
   "id": "b82bdbb9-f6cc-48b4-a3e9-d00bb14f2a08",
   "metadata": {},
   "outputs": [],
   "source": [
    "df3 = df[['MainBranch', 'WorkExp', 'PurchaseInfluence', 'Knowledge_1', 'Knowledge_2', 'Knowledge_3', 'Knowledge_4', 'Knowledge_5', 'Knowledge_6', 'Knowledge_7', 'Knowledge_8', 'Knowledge_9', 'JobSat']]\n",
    "corr = df3.corr(numeric_only=True)\n",
    "plt.figure(figsize=(10, 8))\n",
    "sns.heatmap(corr, annot=True, cmap=\"coolwarm\", fmt=\".2f\", square=True)\n",
    "plt.title(\"Correlation matrix\")\n",
    "plt.show()"
   ]
  },
  {
   "cell_type": "code",
   "execution_count": null,
   "id": "7a2ae537-0aa3-4593-a148-d55ef5f61f8f",
   "metadata": {},
   "outputs": [],
   "source": [
    "df['JobSat'].describe()\n",
    "df.info()"
   ]
  },
  {
   "cell_type": "code",
   "execution_count": null,
   "id": "84eae791-3722-46e2-87f4-e88e47779cf3",
   "metadata": {},
   "outputs": [],
   "source": [
    "x = [65437-df['JobSat'].isna().sum(), df['JobSat'].isna().sum()]\n",
    "labels = ['Job Saturation given', 'Job Saturation is NaN']\n",
    "\n",
    "fig, ax = plt.subplots()\n",
    "ax.pie(x, labels = labels)\n",
    "ax.set_title('Survery responses')\n",
    "plt.show()"
   ]
  },
  {
   "cell_type": "code",
   "execution_count": null,
   "id": "a7e7a393-7571-413f-bc23-b9941544182a",
   "metadata": {},
   "outputs": [],
   "source": [
    "df['JobSat'].value_counts().sort_index().plot(kind='bar')\n",
    "plt.xlabel('Job Satisfaction')\n",
    "plt.ylabel('absolute frequency')\n",
    "plt.show()\n",
    "\n",
    "df['JobSat'].hist(bins=11)"
   ]
  },
  {
   "cell_type": "code",
   "execution_count": null,
   "id": "505a53ce-cb3f-4acc-920e-6a80700c7d4e",
   "metadata": {},
   "outputs": [],
   "source": []
  },
  {
   "cell_type": "code",
   "execution_count": null,
   "id": "c0a551dc-b57b-41d6-ad17-9c36501a1bbf",
   "metadata": {},
   "outputs": [],
   "source": []
  },
  {
   "cell_type": "code",
   "execution_count": null,
   "id": "fea2e7df-e8c1-4a69-9363-e122dd3235d2",
   "metadata": {},
   "outputs": [],
   "source": []
  }
 ],
 "metadata": {
  "kernelspec": {
   "display_name": "Python 3 (ipykernel)",
   "language": "python",
   "name": "python3"
  },
  "language_info": {
   "codemirror_mode": {
    "name": "ipython",
    "version": 3
   },
   "file_extension": ".py",
   "mimetype": "text/x-python",
   "name": "python",
   "nbconvert_exporter": "python",
   "pygments_lexer": "ipython3",
   "version": "3.10.15"
  }
 },
 "nbformat": 4,
 "nbformat_minor": 5
}
